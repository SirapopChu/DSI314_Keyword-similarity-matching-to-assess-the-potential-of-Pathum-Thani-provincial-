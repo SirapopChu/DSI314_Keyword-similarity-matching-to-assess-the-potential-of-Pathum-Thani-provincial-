{
  "nbformat": 4,
  "nbformat_minor": 0,
  "metadata": {
    "colab": {
      "provenance": []
    },
    "kernelspec": {
      "name": "python3",
      "display_name": "Python 3"
    },
    "language_info": {
      "name": "python"
    }
  },
  "cells": [
    {
      "cell_type": "code",
      "source": [
        "import requests\n",
        "\n",
        "url = \"https://api.aiforthai.in.th/thaiwordsim\"\n",
        "\n",
        "data = {'word': str(input()),'model':'thwiki','numword':'5'}\n",
        "\n",
        "headers = {\n",
        "    'Apikey': \"7WdpiSuYvgpIRuOmHPMRFQvnOXn5hSa1\",\n",
        "    'Content-Type': 'application/x-www-form-urlencoded'\n",
        "    }\n",
        "\n",
        "response = requests.post( url, data=data, headers=headers)\n",
        "\n",
        "print(response.json())"
      ],
      "metadata": {
        "colab": {
          "base_uri": "https://localhost:8080/"
        },
        "id": "TKF6J1uG07Lo",
        "outputId": "43efc5bb-3619-4ac8-e789-31160ab63d6b"
      },
      "execution_count": 5,
      "outputs": [
        {
          "output_type": "stream",
          "name": "stdout",
          "text": [
            "สิ่งแวดล้อม\n",
            "{'words': [{'score': 0.7209256291389465, 'word': 'ทรัพยากรธรรมชาติ'}, {'score': 0.6728317737579346, 'word': 'สภาพแวดล้อม'}, {'score': 0.6487166285514832, 'word': 'ระบบนิเวศ'}, {'score': 0.6268022656440735, 'word': 'การอนุรักษ์'}, {'score': 0.5856840014457703, 'word': 'การพัฒนา'}]}\n"
          ]
        }
      ]
    }
  ]
}